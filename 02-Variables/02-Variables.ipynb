{
 "cells": [
  {
   "cell_type": "markdown",
   "id": "ed32b6f1",
   "metadata": {},
   "source": [
    "# 02-Variables\n",
    "\n",
    "\n",
    "Variables is a way to store and label some information that will be used by your application.\n",
    "\n",
    "In python is very simple to declare a variable:\n",
    "\n",
    "```python\n",
    "name = \"Jhon\"\n",
    "age = 27\n",
    "```\n",
    "\n",
    "In the example above we declare two variables called \"name\" and \"age\" respectively.\n",
    "\n",
    "\n",
    "Execute the cell bellow to declare these variables too\n"
   ]
  },
  {
   "cell_type": "code",
   "execution_count": null,
   "id": "36ce34bb",
   "metadata": {},
   "outputs": [],
   "source": [
    "name = \"Jhon\"\n",
    "age = 27"
   ]
  },
  {
   "cell_type": "markdown",
   "id": "1aee2990",
   "metadata": {},
   "source": [
    "## Data types\n",
    "\n",
    "Every variable have their own \"data type\".\n",
    "\n",
    "Data type is an important concept that tells to the application how to manipulate the data stored in a variable. This concept will be clear when we apply basic operations on that variables.\n",
    "\n",
    "Python has the following data types built-in by default, in these categories:\n",
    "\n",
    "- Text Type:\tstr\n",
    "- Numeric Types:\tint, float, complex\n",
    "- Sequence Types:\tlist, tuple, range\n",
    "- Mapping Type:\tdict\n",
    "- Set Types:\tset, frozenset\n",
    "- Boolean Type:\tbool\n",
    "- Binary Types:\tbytes, bytearray, memoryview\n",
    "\n",
    "\n",
    "To verify the type of a variable, python have an built-in function called \"type\".\n",
    "\n",
    "Execute the cell bellow to verify the data types of name and age variables:\n"
   ]
  },
  {
   "cell_type": "code",
   "execution_count": null,
   "id": "60436186",
   "metadata": {},
   "outputs": [],
   "source": [
    "# the output will be the data type associated to the \"name\" variable\n",
    "print(type(name))"
   ]
  },
  {
   "cell_type": "code",
   "execution_count": null,
   "id": "a0e294c5",
   "metadata": {},
   "outputs": [],
   "source": [
    "print(type(age))"
   ]
  },
  {
   "cell_type": "markdown",
   "id": "98724d71",
   "metadata": {},
   "source": [
    "Python is \"dynamic typed\". This means that Python is capable to identify automatically the data type associated to a variable. But if you need, you can declare types to following this syntax \"nameofvariable : type = value\" \n",
    "\n",
    "Check the cell bellow with the same variables \"name\" and \"age\" but with the static type declaration"
   ]
  },
  {
   "cell_type": "code",
   "execution_count": null,
   "id": "445ba4e2",
   "metadata": {},
   "outputs": [],
   "source": [
    "name : str = \"Jhon\"\n",
    "age : int = 25\n",
    "print(type(name))\n",
    "print(type(age))\n",
    "    "
   ]
  },
  {
   "cell_type": "markdown",
   "id": "f846aa3a",
   "metadata": {},
   "source": [
    "Even with the static syntax, Python will allow you to assign a value with a diferent data type to the variable without given any error. But this is useful when we use functions with type checking... don't concern now about functions, but just look to the example bellow:"
   ]
  },
  {
   "cell_type": "code",
   "execution_count": null,
   "id": "4bdafd06",
   "metadata": {},
   "outputs": [],
   "source": [
    "#declare a function to print a add operation of two numbers\n",
    "def add(value1:int, value2:int)-> str:\n",
    "    result: int = value1 + value2\n",
    "    print(f\"Your result is {result}\")\n"
   ]
  },
  {
   "cell_type": "code",
   "execution_count": null,
   "id": "9f66debb",
   "metadata": {},
   "outputs": [],
   "source": [
    "# executing the function, passing the expected int arguments:\n",
    "value1:int = 10\n",
    "value2:int = 2\n",
    "add(value1, value2)"
   ]
  },
  {
   "cell_type": "code",
   "execution_count": null,
   "id": "47ee6cd5",
   "metadata": {},
   "outputs": [],
   "source": [
    "# now the same function when the wrong type is passed \n",
    "add(name, age)"
   ]
  },
  {
   "cell_type": "markdown",
   "id": "d00805d3",
   "metadata": {},
   "source": [
    "# Challenges\n",
    "\n",
    " Try to fix the program bellow changing the type and values of the declared variables. \n",
    "\n",
    " Add the best data type and find answers for the following questions.\n",
    "\n",
    " Update following characters =>\n",
    " ***    = DATA_TYPE (str, int, float, list, bool...)\n",
    " ???  = ANSWER (values that correspond to data types like \"John\" for str, 1 for int, 1.2 for float)\n",
    "\n",
    " Then run the cell\n",
    "\n",
    " Example:\n",
    " \n",
    " ```python\n",
    " \n",
    " # Which programming language is the best?\n",
    " bestLanguage : *** = ???\n",
    "\n",
    " # Answer:\n",
    "     # Which programming language is the best?\n",
    " bestLanguage : str = “Python”\n",
    "    \n",
    " isFalse : bool = False\n",
    " \n",
    " isTrue : bool = True\n",
    " \n",
    " oneHundredDollars : float = 100.00\n",
    "    \n",
    " fruits : list = [\"Banana\",\"Apple\",\"Avocado\",\"Pineaple\"]\n",
    "    \n",
    " ```\n"
   ]
  },
  {
   "cell_type": "code",
   "execution_count": null,
   "id": "b40c6924",
   "metadata": {},
   "outputs": [],
   "source": [
    "# Execute this, if you see an error is because you choose wrong data type or value\n",
    "\n",
    "# is Jeff Bezos the richest person in the world as of 2020?\n",
    "isJeffBezosRichestPerson : bool = True\n",
    "\n"
   ]
  },
  {
   "cell_type": "code",
   "execution_count": null,
   "id": "1ea7c790",
   "metadata": {},
   "outputs": [],
   "source": [
    "import test_script\n",
    "\n",
    "test_script.check_jeff(isJeffBezosRichestPerson)"
   ]
  },
  {
   "cell_type": "code",
   "execution_count": null,
   "id": "c79533f6",
   "metadata": {},
   "outputs": [],
   "source": [
    "# he is CEO of which company?\n",
    "company : *** = ???\n"
   ]
  },
  {
   "cell_type": "code",
   "execution_count": null,
   "id": "9e9f2098",
   "metadata": {},
   "outputs": [],
   "source": [
    "# check your answer\n",
    "test_script.check_company(company)"
   ]
  },
  {
   "cell_type": "code",
   "execution_count": null,
   "id": "a60a0d22",
   "metadata": {},
   "outputs": [],
   "source": [
    "\n",
    "# what is his net worth as of 2020?\n",
    "netWorth : *** = ???"
   ]
  },
  {
   "cell_type": "code",
   "execution_count": null,
   "id": "26d4b1d3",
   "metadata": {},
   "outputs": [],
   "source": [
    "# check your answer\n",
    "test_script.check_netWorth(netWorth)"
   ]
  },
  {
   "cell_type": "code",
   "execution_count": null,
   "id": "3c3c88ab",
   "metadata": {},
   "outputs": [],
   "source": [
    "# what is the most popular website in the world?\n",
    "mostPopularWebsite : *** = ???"
   ]
  },
  {
   "cell_type": "code",
   "execution_count": null,
   "id": "9216b49c",
   "metadata": {},
   "outputs": [],
   "source": [
    "# check your answer\n",
    "test_script.check_mostPopularWebsite(mostPopularWebsite)"
   ]
  },
  {
   "cell_type": "code",
   "execution_count": null,
   "id": "ebc93d68",
   "metadata": {},
   "outputs": [],
   "source": [
    "# the only one even prime number\n",
    "evenPrimeNumber : *** = ???"
   ]
  },
  {
   "cell_type": "code",
   "execution_count": null,
   "id": "663d6f99",
   "metadata": {},
   "outputs": [],
   "source": [
    "# check your answer\n",
    "test_script.check_evenPrimeNumber(evenPrimeNumber)"
   ]
  },
  {
   "cell_type": "code",
   "execution_count": null,
   "id": "1829de69",
   "metadata": {},
   "outputs": [],
   "source": [
    "# the only number that can't be represented in roman numerals\n",
    "notRomanNumeral : *** = ???"
   ]
  },
  {
   "cell_type": "code",
   "execution_count": null,
   "id": "9f625a21",
   "metadata": {},
   "outputs": [],
   "source": [
    "# check your answer\n",
    "test_script.check_notRomanNumeral(notRomanNumeral)"
   ]
  },
  {
   "cell_type": "code",
   "execution_count": null,
   "id": "c245c0f6",
   "metadata": {},
   "outputs": [],
   "source": [
    "# how many seconds in a minute?\n",
    "seconds : *** = ???"
   ]
  },
  {
   "cell_type": "code",
   "execution_count": null,
   "id": "5606cb7e",
   "metadata": {},
   "outputs": [],
   "source": [
    "# check your answer\n",
    "test_script.check_seconds(seconds)"
   ]
  },
  {
   "cell_type": "code",
   "execution_count": null,
   "id": "694abcb1",
   "metadata": {},
   "outputs": [],
   "source": [
    "# the best language for data analyses, devops and machine learning\n",
    "language : *** = ???"
   ]
  },
  {
   "cell_type": "code",
   "execution_count": null,
   "id": "f8e29455",
   "metadata": {},
   "outputs": [],
   "source": [
    "# check your answer\n",
    "test_script.check_language(language)"
   ]
  },
  {
   "cell_type": "code",
   "execution_count": null,
   "id": "7f9642da",
   "metadata": {},
   "outputs": [],
   "source": [
    "# most popular language at this time?\n",
    "popularLanguage : *** = ???"
   ]
  },
  {
   "cell_type": "code",
   "execution_count": null,
   "id": "23c41e55",
   "metadata": {},
   "outputs": [],
   "source": [
    "# check your answer\n",
    "test_script.check_popularLanguage(popularLanguage)"
   ]
  },
  {
   "cell_type": "code",
   "execution_count": null,
   "id": "5bd95219",
   "metadata": {},
   "outputs": [],
   "source": [
    "# horror missing character for Java programmers that you dont need in Python\n",
    "horrorCharacter : *** = ???"
   ]
  },
  {
   "cell_type": "code",
   "execution_count": null,
   "id": "d95ce6af",
   "metadata": {},
   "outputs": [],
   "source": [
    "# check your answer\n",
    "test_script.check_horrorCharacter(horrorCharacter)"
   ]
  },
  {
   "cell_type": "code",
   "execution_count": null,
   "id": "8494839a",
   "metadata": {},
   "outputs": [],
   "source": [
    "# tourists visit what country the most?\n",
    "mostsVisitedCountry : *** = ???"
   ]
  },
  {
   "cell_type": "code",
   "execution_count": null,
   "id": "22b02ae9",
   "metadata": {},
   "outputs": [],
   "source": [
    "# check your answer\n",
    "test_script.check_mostsVisitedCountry(mostsVisitedCountry)"
   ]
  },
  {
   "cell_type": "code",
   "execution_count": null,
   "id": "232ec19e",
   "metadata": {},
   "outputs": [],
   "source": [
    "# how many countries don't use metric system?\n",
    "nonMetricCount : *** = ???"
   ]
  },
  {
   "cell_type": "code",
   "execution_count": null,
   "id": "980646d0",
   "metadata": {},
   "outputs": [],
   "source": [
    "# check your answer\n",
    "test_script.check_nonMetricCount(nonMetricCount)"
   ]
  },
  {
   "cell_type": "code",
   "execution_count": null,
   "id": "b976a443",
   "metadata": {},
   "outputs": [],
   "source": [
    "# is united states use metric system?\n",
    "isUSMetric : *** = ???"
   ]
  },
  {
   "cell_type": "code",
   "execution_count": null,
   "id": "fbadf0cc",
   "metadata": {},
   "outputs": [],
   "source": [
    "# check your answer\n",
    "test_script.check_isUSMetric(isUSMetric)"
   ]
  },
  {
   "cell_type": "code",
   "execution_count": null,
   "id": "dbb78c95",
   "metadata": {},
   "outputs": [],
   "source": [
    "# the coldest temperature ever recorded in F?\n",
    "coldestTemp : *** = ???"
   ]
  },
  {
   "cell_type": "code",
   "execution_count": null,
   "id": "14dd2f6a",
   "metadata": {},
   "outputs": [],
   "source": [
    "# check your answer\n",
    "test_script.check_coldestTemp(coldestTemp)"
   ]
  },
  {
   "cell_type": "code",
   "execution_count": null,
   "id": "2cec12ad",
   "metadata": {},
   "outputs": [],
   "source": [
    "# what much world's population watched both the 2010 and 2014 FIFA World Cup games. (0.25, 0.4, 0.5, 0.75)\n",
    "population : *** = ???"
   ]
  },
  {
   "cell_type": "code",
   "execution_count": null,
   "id": "074f6769",
   "metadata": {},
   "outputs": [],
   "source": [
    "# check your answer\n",
    "test_script.check_population(population)"
   ]
  },
  {
   "cell_type": "code",
   "execution_count": null,
   "id": "f15c4e45",
   "metadata": {},
   "outputs": [],
   "source": [
    "# as of 2019, the overall human population is estimated to be more than how many billion people?\n",
    "worldPopulation : *** = ???"
   ]
  },
  {
   "cell_type": "code",
   "execution_count": null,
   "id": "eaff420d",
   "metadata": {},
   "outputs": [],
   "source": [
    "# check your answer\n",
    "test_script.check_worldPopulation(worldPopulation)"
   ]
  },
  {
   "cell_type": "code",
   "execution_count": null,
   "id": "a7d8832d",
   "metadata": {},
   "outputs": [],
   "source": [
    "# 10 decimals of PI number\n",
    "pi : *** = ???"
   ]
  },
  {
   "cell_type": "code",
   "execution_count": null,
   "id": "c13a65df",
   "metadata": {},
   "outputs": [],
   "source": [
    "# check your answer\n",
    "test_script.check_pi(pi)"
   ]
  },
  {
   "cell_type": "code",
   "execution_count": null,
   "id": "de63c6e5",
   "metadata": {},
   "outputs": [],
   "source": [
    "# volume of data/information created worldwide by 2025 in zetabytes. Forecast by statista\n",
    "dataVolume : *** = ???"
   ]
  },
  {
   "cell_type": "code",
   "execution_count": null,
   "id": "beb4c676",
   "metadata": {},
   "outputs": [],
   "source": [
    "# check your answer\n",
    "test_script.check_dataVolume(dataVolume)"
   ]
  }
 ],
 "metadata": {
  "kernelspec": {
   "display_name": "Python 3 (ipykernel)",
   "language": "python",
   "name": "python3"
  },
  "language_info": {
   "codemirror_mode": {
    "name": "ipython",
    "version": 3
   },
   "file_extension": ".py",
   "mimetype": "text/x-python",
   "name": "python",
   "nbconvert_exporter": "python",
   "pygments_lexer": "ipython3",
   "version": "3.9.10"
  }
 },
 "nbformat": 4,
 "nbformat_minor": 5
}
