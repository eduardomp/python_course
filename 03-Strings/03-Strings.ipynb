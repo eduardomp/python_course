{
 "cells": [
  {
   "cell_type": "markdown",
   "id": "f8c100b2",
   "metadata": {},
   "source": [
    "# 03-Strings\n",
    "\n",
    "String is a collection of alphabets, words or other characters. It is one of the primitive data structures and are the building blocks for data manipulation. Python has a built-in string class named str (do you remember the last module?). Python strings are \"immutable\" which means they cannot be changed after they are created.\n",
    "\n",
    "\n",
    "Lets see some string possible operations\n"
   ]
  },
  {
   "cell_type": "code",
   "execution_count": null,
   "id": "f8b05970",
   "metadata": {},
   "outputs": [],
   "source": [
    "#String values can be declared beetween single or double quotes\n",
    "\n",
    "name = \"Jeff\"\n",
    "\n",
    "message = 'This is a string too'\n",
    "\n",
    "print(name)\n",
    "\n",
    "print(message)\n",
    "\n"
   ]
  },
  {
   "cell_type": "markdown",
   "id": "92d1666d",
   "metadata": {},
   "source": [
    "## Multiline Strings\n",
    "\n",
    "You can declare multiline strings using the follow syntax:"
   ]
  },
  {
   "cell_type": "code",
   "execution_count": null,
   "id": "8971e466",
   "metadata": {},
   "outputs": [],
   "source": [
    "document = \"\"\"Lorem ipsum dolor sit amet, consectetur adipiscing elit. Phasellus iaculis nisl risus.\n",
    "Pellentesque consequat non urna a posuere. Aenean tristique arcu egestas sagittis porta.\n",
    "Phasellus quam libero, aliquam id est at, volutpat vulputate massa.\"\"\"\n",
    "\n",
    "print(document)\n"
   ]
  },
  {
   "cell_type": "markdown",
   "id": "83fcd244",
   "metadata": {},
   "source": [
    "\n",
    "## Concatenation\n",
    "\n",
    "Concatenation is the name of the operation that merge one or more strings to create a new one. To concatenate strings you can use the operator + (plus).\n",
    "\n",
    "Check the code bellow:\n"
   ]
  },
  {
   "cell_type": "code",
   "execution_count": null,
   "id": "ac9329bd",
   "metadata": {},
   "outputs": [],
   "source": [
    "# declare string a\n",
    "a = \"Hello\"\n",
    "# declare string b\n",
    "b = 'World'\n",
    "# declare string c with the concatenation of a + space character + b to create a new string\n",
    "c = a + \" \" + b\n",
    "# prints c\n",
    "print(c)"
   ]
  },
  {
   "cell_type": "markdown",
   "id": "2b4014e3",
   "metadata": {},
   "source": [
    "## Formatting\n",
    "\n",
    "Sometimes you need to display some text filled with values that cames from variables with another data types or given by the user input. In that case, use + operator to concatenate is not elegant, readable and can generate errors or undesired behaviour.\n",
    "\n",
    "For example, if you need to display the number 1 using concatenation you will receive an error (execute the code bellow):\n"
   ]
  },
  {
   "cell_type": "code",
   "execution_count": null,
   "id": "2c96de1e",
   "metadata": {},
   "outputs": [],
   "source": [
    "# this generates an error \n",
    "number_one = \"number \" + 1"
   ]
  },
  {
   "cell_type": "markdown",
   "id": "98ec0643",
   "metadata": {},
   "source": [
    "If you use another operator like * , you will \"multiply\" the string n times... "
   ]
  },
  {
   "cell_type": "code",
   "execution_count": null,
   "id": "63a90a43",
   "metadata": {},
   "outputs": [],
   "source": [
    "# this can be usefull, but is a curious behaviour (a feature indeed)\n",
    "spam = \"spam \" * 10\n",
    "print(spam)"
   ]
  },
  {
   "cell_type": "markdown",
   "id": "856ac1e8",
   "metadata": {},
   "source": [
    " So, in that cases (and many others) formatting is the best choice.\n",
    "\n",
    "Currently in python we have some ways to do that.\n",
    "\n",
    "### Formatting in the 'old style' using the % operator\n",
    "\n",
    "You can use the follow syntax to format strings:\n",
    "\n",
    "The %d placeholder is replaced with the value passed after % outside of the string...\n",
    "\n",
    "```python\n",
    "\n",
    "number_one = \"Number %d\" % 1\n",
    "# the %d is to be replaced by \"digits\"... if you want to put another string you have to use %s as a placeholder,\n",
    "# so in that case, the type matters... this can be problematic if you want some flexibility!\n",
    "\n",
    "\n",
    "\n",
    "```\n"
   ]
  },
  {
   "cell_type": "code",
   "execution_count": null,
   "id": "0eca8058",
   "metadata": {},
   "outputs": [],
   "source": [
    "# Old style\n",
    "\n",
    "# digits\n",
    "number_one = \"Number %d\" % 1\n",
    "print(number_one)\n",
    "\n",
    "something = \"asdf\"\n",
    "# another string\n",
    "hello_something = \"Hello %s\" % something\n",
    "\n",
    "print(hello_something)"
   ]
  },
  {
   "cell_type": "markdown",
   "id": "cc4446be",
   "metadata": {},
   "source": [
    "### Formatting in the \"new style\" using \"str.format\" function\n",
    "\n",
    "Since python 3, the type str has a function called format.\n",
    "\n",
    "Check the example bellow:\n",
    "\n"
   ]
  },
  {
   "cell_type": "code",
   "execution_count": null,
   "id": "80eee7c0",
   "metadata": {},
   "outputs": [],
   "source": [
    "# Positional substitution\n",
    "import datetime\n",
    "\n",
    "date = datetime.datetime.now()\n",
    "user = \"Mario\"\n",
    " \n",
    "message = \"Welcome {}! Today is {}\".format(user,date)\n",
    "\n",
    "print(message)\n"
   ]
  },
  {
   "cell_type": "code",
   "execution_count": null,
   "id": "000a7b99",
   "metadata": {},
   "outputs": [],
   "source": [
    "# Variable substitutions\n",
    "message = \"Today is {date} . \\n Sorry {user} but our princess is in another castle!\".format(user=\"Luigi\",date=date)\n",
    "print(message)"
   ]
  },
  {
   "cell_type": "markdown",
   "id": "c7843e6b",
   "metadata": {},
   "source": [
    "## Scape characters\n",
    "\n",
    "Wait... what is the \\n inside the last string?\n",
    "\n",
    "\"\\n\" represents line break inside the string. But \"\\\" can be used to scape some characters. For example, how to present a quote inside a string? Just use \"\\\" before the character to \"scape\" (print inside the string).\n",
    "\n",
    "|Escape Sequence |\tDescription |\n",
    "|----------------|--------------|\n",
    "| \\newline |\tBackslash and newline ignored|\n",
    "| \\\\\t   | Backslash|\n",
    "| \\'       |\tSingle quote|\n",
    "| \\\"\t   | Double quote|\n",
    "| \\a\t   | ASCII Bell|\n",
    "| \\b\t| ASCII Backspace|\n",
    "| \\f\t| ASCII Formfeed|\n",
    "| \\n\t| ASCII Linefeed|\n",
    "| \\r\t| ASCII Carriage Return|\n",
    "| \\t\t| ASCII Horizontal Tab|\n",
    "| \\v\t| ASCII Vertical Tab|\n",
    "| \\ooo  |\tCharacter with octal value ooo|\n",
    "| \\xHH  |\tCharacter with hexadecimal value HH|\n"
   ]
  },
  {
   "cell_type": "code",
   "execution_count": null,
   "id": "2440d793",
   "metadata": {},
   "outputs": [],
   "source": [
    "quotes = \"This \\\"quotes\\\" is inside the string withou break anything, like \\'this\\' too\"\n",
    "print(quotes)"
   ]
  },
  {
   "cell_type": "markdown",
   "id": "f6a6dacc",
   "metadata": {},
   "source": [
    "## Interpolation\n",
    "\n",
    "Python 3.6 added a new string formatting approach called formatted string literals or “f-strings”. This new way of formatting strings lets you use embedded Python expressions inside string constants. Here’s a simple example to give you a feel for the feature:"
   ]
  },
  {
   "cell_type": "code",
   "execution_count": null,
   "id": "97c6be33",
   "metadata": {},
   "outputs": [],
   "source": [
    "# Pay attention to the \"f\" before the quotes\n",
    "user = \"Luigi\"\n",
    "life = 1\n",
    "message = f\"Hello {user}, you have {life * 8} chances!\"\n",
    "\n",
    "print(message)\n",
    "\n",
    "# math expressions inside this string... cool rigth?\n",
    "calc = f\" 2 + 2 = {2*2} and 2 * 2 = {8//2}\"\n",
    "\n",
    "print(calc)"
   ]
  },
  {
   "cell_type": "markdown",
   "id": "db83c00a",
   "metadata": {},
   "source": [
    "\n",
    "## Slicing\n",
    "\n",
    "You can handle strings like handle lists (ok, you dont see this yet, but hold on, the things will be more clear in the future) extracting \"substrings\". To do that, you need to now that every single character inside a string is indexed by a number like in a \"array\" (list here ok, python have lists... you will see). So the first char can be accessed with the index \"0\", like this:"
   ]
  },
  {
   "cell_type": "code",
   "execution_count": null,
   "id": "b956467e",
   "metadata": {},
   "outputs": [],
   "source": [
    "# to get the first character of this sequence do:\n",
    "sequence = \"ABCDEFGH\"\n",
    "\n",
    "print(f\"the first letter of the sequence {sequence} is {sequence[0]}\")\n",
    "\n",
    "# to get the G letter in the 7th position\n",
    "print(f\"the 8th letter of the sequence {sequence} is {sequence[7]}\")"
   ]
  },
  {
   "cell_type": "markdown",
   "id": "5d31545c",
   "metadata": {},
   "source": [
    "you can extract some intervals inside the strings using the follow syntax:"
   ]
  },
  {
   "cell_type": "code",
   "execution_count": null,
   "id": "8d6b2a35",
   "metadata": {},
   "outputs": [],
   "source": [
    "# Get the characters from the start to position 5 (not included):\n",
    "name = \"Luigi Mario\"\n",
    "print(name[:5])\n",
    "\n",
    "# to get from 2 to 7 position (not included)\n",
    "print(name[2:7])\n",
    "\n",
    "# to get the last 5 characters\n",
    "print(name[-5:])\n"
   ]
  },
  {
   "cell_type": "markdown",
   "id": "5ec00cc5",
   "metadata": {},
   "source": [
    "## Usefull (and powerfull) operations\n",
    "\n",
    "Python have some handfully functions to handle and transform strings, lets see some of then.\n",
    "\n",
    "### String Membership Test\n",
    "\n",
    "Check if a sequence is present inside the entire string like:\n",
    "\n",
    "```python\n",
    "\n",
    "\"c\" in \"abcdefgh\"\n",
    "# returns True\n",
    "\n",
    "```\n"
   ]
  },
  {
   "cell_type": "code",
   "execution_count": null,
   "id": "376a66c0",
   "metadata": {},
   "outputs": [],
   "source": [
    "\"Mario\" in \"Its me Luigi!\""
   ]
  },
  {
   "cell_type": "code",
   "execution_count": null,
   "id": "3bf0a3b2",
   "metadata": {},
   "outputs": [],
   "source": [
    "# Enumerate (see the index of every char in the string)\n",
    "str = \"abcdefghijklmnopqrstuvxwyz\"\n",
    "list_enumerate = list(enumerate(str))\n",
    "print('list(enumerate(str) = ', list_enumerate)\n",
    "\n",
    "#character count\n",
    "print('\\n len(str) = ', len(str))\n",
    "\n",
    "\n"
   ]
  },
  {
   "cell_type": "markdown",
   "id": "6cbda6af",
   "metadata": {},
   "source": [
    "### String methods\n",
    "\n",
    "Some string functions \n",
    "\n",
    "You can see the entire list [here](https://docs.python.org/3/library/stdtypes.html#string-methods)\n"
   ]
  },
  {
   "cell_type": "code",
   "execution_count": null,
   "id": "11371f3f",
   "metadata": {},
   "outputs": [],
   "source": [
    "message = \"PyThOn Strings is FUN\"\n",
    "\n",
    "# uppercase chars\n",
    "print(f\"upper() {message.upper()}\")\n",
    "\n",
    "# split string into a list of words\n",
    "print(f\"split() will split all words into a list: {message.split()}\")\n",
    "\n",
    "# join a list of strings into a single string\n",
    "print(f\"join() {' '.join(['This', 'will', 'join', 'all', 'words', 'into', 'a', 'string'])} \")\n",
    "\n",
    "# replace a word inside the string\n",
    "print(f\"replace() will replace some word in the string: {message.replace('FUN','COOL')}\")\n"
   ]
  },
  {
   "cell_type": "markdown",
   "id": "53574830",
   "metadata": {},
   "source": [
    "\n",
    "## Challenges\n",
    "\n",
    "\n",
    "Check the python documentation and try to transform or format the values of the follow string variables:\n",
    "```python\n",
    "\n",
    "# Put all chars in lowercase\n",
    "lowercase_me = \"UPPER\"\n",
    "lowercase_me_asnswer = lowercase_me.lower() \n",
    "\n",
    "# you can check the result\n",
    "print(lowercase_me_asnswer)\n",
    "\n",
    "```\n"
   ]
  },
  {
   "cell_type": "code",
   "execution_count": null,
   "id": "e1e60865",
   "metadata": {},
   "outputs": [],
   "source": [
    "# Put all chars in uppercase\n",
    "uppercase = \"Easy Task UH?\"\n",
    "uppercase_answer = ...\n",
    "print(uppercase_answer)\n",
    "\n",
    "# Choose Luigi to replace Mario\n",
    "replace = \"My name is Mario!\"\n",
    "replace_answer = ...\n",
    "print(replace_answer)\n",
    "\n",
    "# just the first letter capitalized\n",
    "capitalize = \"capitalized\"\n",
    "capitalize_answer = ...\n",
    "\n",
    "\n",
    "# do the math\n",
    "do_the_math = \"Two + Two = {2+2}\" # put this expression to work inside this string\n",
    "do_the_math_answer = ...\n",
    "\n",
    "\n",
    "# only digits allowed here\n",
    "digits = \"Only digits here >>>>> % <<<<<\" * 7 # expects: \"Only digits here >>>>> 7 <<<<<\"\n",
    "digits_answer = ...\n",
    "\n",
    "# list of foods from string\n",
    "food_list = \"Banana tomato pineaple pasta and rice\" # make a list of this\n",
    "food_list_answer = ...\n",
    "\n",
    "# from food_list_answer, get pasta\n",
    "pasta = ...\n",
    "\n",
    "# the word \"and\" is not a food, do the needed operations to remove the word \"and\" and store in a list called just_foods_list\n",
    "\n",
    "...\n",
    "...\n",
    "just_foods_list = ...\n"
   ]
  },
  {
   "cell_type": "code",
   "execution_count": null,
   "id": "13390d02",
   "metadata": {},
   "outputs": [],
   "source": [
    "# Execute this tests when you finish all the challenges\n",
    "import test_script\n",
    "\n",
    "test_script.check_uppercase_answer(uppercase_answer)\n",
    "\n",
    "test_script.check_replace_answer(replace_answer)\n",
    "\n",
    "test_script.check_capitalize_answer(capitalize_answer)\n",
    "\n",
    "test_script.check_do_the_math_answer(do_the_math_answer)\n",
    "\n",
    "test_script.check_digits_answer(digits_answer)\n",
    "\n",
    "test_script.check_food_list_answer(food_list_answer)\n",
    "\n",
    "test_script.check_pasta(pasta)\n",
    "\n",
    "test_script.check_just_foods_list(just_foods_list)\n",
    "\n",
    "# Good Lucky!"
   ]
  }
 ],
 "metadata": {
  "kernelspec": {
   "display_name": "Python 3 (ipykernel)",
   "language": "python",
   "name": "python3"
  },
  "language_info": {
   "codemirror_mode": {
    "name": "ipython",
    "version": 3
   },
   "file_extension": ".py",
   "mimetype": "text/x-python",
   "name": "python",
   "nbconvert_exporter": "python",
   "pygments_lexer": "ipython3",
   "version": "3.9.10"
  }
 },
 "nbformat": 4,
 "nbformat_minor": 5
}
