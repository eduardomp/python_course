{
 "cells": [
  {
   "cell_type": "markdown",
   "metadata": {},
   "source": [
    "# 04-Arithmetic-and-Logic-Operators\n",
    "\n",
    "\n",
    "Like every programming language, Python can do arithmetic and logic operations. And that operators can be combined to create limitless expressions. Curious? So let's see that in action!\n",
    "\n",
    "\n",
    "## Booleans\n",
    "\n",
    "\n",
    "Python has a ***type*** called ***bool***, that is responsible to inform us if a variable or a result of an expression is ***True*** or ***False*** (yes, with T and F capitalized, remember that detail, because this is the way to declare a ***literal*** boolean value...)\n",
    "\n"
   ]
  },
  {
   "cell_type": "code",
   "execution_count": null,
   "metadata": {},
   "outputs": [],
   "source": [
    "# literal True boolean value assigned to a variable\n",
    "isTrue = True\n",
    "\n",
    "# prints the bool type\n",
    "print(type(isTrue))"
   ]
  },
  {
   "cell_type": "markdown",
   "metadata": {},
   "source": [
    "### Comparison operators\n",
    "\n",
    "|Operator| Description | Usage  |\n",
    "|--------|-------------|--------|  \n",
    "| ==     | Equals to   | a == b |\n",
    "| !=     | Not equals. | a != b |\n",
    "| <      | Less than   | a < b\t|\n",
    "| >      | Greater than| a > b\t|\n",
    "| <=     | Less than or equal to| a <= b|\n",
    "| >=     | Greater than or equal| a >= b|\n",
    "\n",
    "\n"
   ]
  },
  {
   "cell_type": "code",
   "execution_count": null,
   "metadata": {},
   "outputs": [],
   "source": [
    "# Examples\n",
    "\n",
    "# Given the variables 'a' (int) and 'b' (str)\n",
    "a = 1\n",
    "b = \"2\"\n",
    "\n",
    "print(f\"a is {a} and b is \\\"{b}\\\"\")\n",
    "print(f\"a is a {type(a)} and b is {type(b)}\")"
   ]
  },
  {
   "cell_type": "code",
   "execution_count": null,
   "metadata": {},
   "outputs": [],
   "source": [
    "# equals to\n",
    "print(f\"a is equals to b? {a == b}\")"
   ]
  },
  {
   "cell_type": "code",
   "execution_count": null,
   "metadata": {},
   "outputs": [],
   "source": [
    "# not equals to\n",
    "print(f\"a is not equals to b? {a != b}\")"
   ]
  },
  {
   "cell_type": "code",
   "execution_count": null,
   "metadata": {},
   "outputs": [],
   "source": [
    "# pay attention, because of the type of variables, we need to convert \"b\" to int\n",
    "\n",
    "# less than\n",
    "print(f\"a is less than b? {a < int(b)}\") "
   ]
  },
  {
   "cell_type": "code",
   "execution_count": null,
   "metadata": {},
   "outputs": [],
   "source": [
    "# greater than\n",
    "print(f\"a is greater than b? {a > int(b)}\")"
   ]
  },
  {
   "cell_type": "code",
   "execution_count": null,
   "metadata": {},
   "outputs": [],
   "source": [
    "# Less than or equal to\n",
    "print(f\"a is less than or equals to b? {a <= int(b)}\")"
   ]
  },
  {
   "cell_type": "code",
   "execution_count": null,
   "metadata": {},
   "outputs": [],
   "source": [
    "# Greater than or equal to\n",
    "print(f\"a is greater than or equals to b? {a >= int(b)}\")"
   ]
  },
  {
   "cell_type": "markdown",
   "metadata": {},
   "source": [
    "### Arithmetic operators\n",
    "\n",
    "|Operator| Description | Usage  |\n",
    "|--------|-------------|--------|  \n",
    "|+\t|Addition\t    |x + y|\t\n",
    "|-\t|Subtraction\t|x - y|\t\n",
    "|*\t|Multiplication\t|x * y|\t\n",
    "|/\t|Division\t    |x / y|\t\n",
    "|%\t|Modulus\t    |x % y|\t\n",
    "|**\t|Exponentiation\t|x ** y|\t\n",
    "|//\t|Floor division\t|x // y|\n",
    "\n",
    "\n",
    "\n"
   ]
  },
  {
   "cell_type": "code",
   "execution_count": null,
   "metadata": {},
   "outputs": [],
   "source": [
    "x = 10\n",
    "y = 2\n",
    "\n",
    "# Addition\n",
    "\n",
    "result = x + y\n",
    "\n",
    "print(f\"x + y = {result}\")"
   ]
  },
  {
   "cell_type": "code",
   "execution_count": null,
   "metadata": {},
   "outputs": [],
   "source": [
    "# Subtraction\n",
    "result = x - y\n",
    "\n",
    "print(f\"x - y = {result}\")"
   ]
  },
  {
   "cell_type": "code",
   "execution_count": null,
   "metadata": {},
   "outputs": [],
   "source": [
    "# Multiplication\n",
    "result = x * y\n",
    "\n",
    "print(f\"x * y = {result}\")"
   ]
  },
  {
   "cell_type": "code",
   "execution_count": null,
   "metadata": {},
   "outputs": [],
   "source": [
    "# Division\n",
    "result = x / y\n",
    "\n",
    "print(f\"x / y = {result}\")"
   ]
  },
  {
   "cell_type": "markdown",
   "metadata": {},
   "source": [
    "If you want, create a new cell and test every Arithmetic operator...\n",
    "\n",
    "Let's see just some important details about these subjects.\n",
    "\n",
    "When you do arithmetic operations with simple int variables or literal values, the result is always intuitive, 1 + 1 is 2, 8 / 2 is 4 (4.0 indeed), and so on, but in some cases, the number is a float and this means that the fractional part of the number is considered, so 2.5 + 3.76 = 6.26, 8/2 = 4.0 and 8.5 // 2 = 4.0 ... wait.. what happened here? 8.5 divided by 2 is equal to 4.25, why the result of 8.5 // 2 is 4.0? Because the operator \"//\" is a division that only considers the int part of float numbers... to divide a float number and get the real result use the \"/\" operator instead.\n",
    "\n",
    "Experiment with the operators using float instead of int and check the results."
   ]
  },
  {
   "cell_type": "code",
   "execution_count": null,
   "metadata": {},
   "outputs": [],
   "source": [
    "print(f\"Addition: 2.5 + 3.76 = {2.5 + 3.76}\") \n",
    "print(f\"Floor division: 8.5 // 2 = {8.5 // 2}\")\n",
    "print(f\"Division: 8.5 / 2 = {8.5 / 2}\")"
   ]
  },
  {
   "cell_type": "markdown",
   "metadata": {},
   "source": [
    "### Combining comparison operators (boolean) with Arithmetic operators\n",
    "\n",
    "You can combine the operators to create sentences and get the boolean result of it to test rules, business logic, \n",
    "hypothesis... or in simple terms, test conditions!\n",
    "\n",
    "Imagine that you have to test if a number is odd or even, how we can do that by combining these operators?\n",
    "\n",
    "Every even number, when divided by 2 doesn't leave any rest from a division, so in this case, we can use the boolean operator with the modulus operator(to get a rest of a division).\n",
    "\n",
    "Try the code below to check how we can test it:"
   ]
  },
  {
   "cell_type": "code",
   "execution_count": null,
   "metadata": {},
   "outputs": [],
   "source": [
    "print(f\" 5 is even? { (5 % 2) == 0}\")\n",
    "print(f\" 5 is odd? { (5 % 2) != 0}\")\n",
    "\n",
    "print(f\" 10 / 4 is  {10 / 4}, this is a odd number? { (10 % 4) != 0}\")"
   ]
  },
  {
   "cell_type": "markdown",
   "metadata": {},
   "source": [
    "If you notice, here our test is failing to label float results because classifications for integers do not apply to nonintegers... this is more a math discussion, but this example is intentional just to put you to think that your boolean tests can fail too, so be careful, check the types and test hypothesis on your tests, so test your tests too is very recommended in the wonderful world of programming :) \n",
    "\n",
    "But, don't be afraid to fail, this is part of your journey and learning process... fail a lot, you will learn more with your errors than with your successful code executions (and sometimes your successful code is a liar, take care and always review your logic)!\n",
    "\n",
    "Now, let's exercise the operators creating expressions to test some conditions. \n",
    "\n",
    "Please, complete the conditions below and execute the tests after to check if your expressions\n",
    "\n",
    "Good lucky!\n"
   ]
  },
  {
   "cell_type": "code",
   "execution_count": null,
   "metadata": {},
   "outputs": [],
   "source": [
    "# variables (dont modify this values, but use this variables in your tests)\n",
    "name = \"Mario\"\n",
    "age = 30\n",
    "job = \"PLUMBER\"\n",
    "account_balance = 100.52\n",
    "lives = 3\n",
    "\n",
    "# complete the code replacing *** with expressions using the operators\n",
    "# that you learned to fill the variables with the rigth result\n",
    "\n",
    "# Considering age of majority in US is 21, is Mario a minor?\n",
    "is_mario_minor = 21 *** age\n",
    "\n",
    "# To enter on the castle, you have to pay 100 coins... Mario can enter in the castle?\n",
    "sufficient_funds_to_enter_in_the_castle = account_balance *** 100 \n",
    "\n",
    "# Mario enter in the castle, debit 100 from the account...\n",
    "account_balance = account_balance - ***\n",
    "\n",
    "# can he enter in the secret pipe paying 1 coin?\n",
    "can_enter_in_the_secret_pipe = account_balance ***= 1\n",
    "\n",
    "# To fix the pipe, we need a Pumbler... can you check if Mario is a Plumber?\n",
    "is_plumber = job == \"PLUMBER\" #Appears to be right, but is not. Remember to test your tests... fix this\n",
    "\n",
    "# Mario loses 1 life trying to fix the pipe full of lava, so complete the code and check \n",
    "# if he can try again and have more than 0 lifes\n",
    "lives = *** - 1\n",
    "\n",
    "can_try_again = lives *** 0\n",
    "\n"
   ]
  },
  {
   "cell_type": "code",
   "execution_count": null,
   "metadata": {},
   "outputs": [],
   "source": [
    "# Execute this tests when you finish all the challenges\n",
    "import test_script\n",
    "\n",
    "test_script.check_is_mario_minor(is_mario_minor)\n",
    "test_script.check_sufficient_funds_to_enter_in_the_castle(sufficient_funds_to_enter_in_the_castle)\n",
    "test_script.check_account_balance(account_balance)\n",
    "test_script.check_can_enter_in_the_secret_pipe(can_enter_in_the_secret_pipe)\n",
    "test_script.check_is_pumbler(is_plumber)\n",
    "test_script.check_lives(lives)"
   ]
  }
 ],
 "metadata": {
  "kernelspec": {
   "display_name": "Python 3 (ipykernel)",
   "language": "python",
   "name": "python3"
  },
  "language_info": {
   "codemirror_mode": {
    "name": "ipython",
    "version": 3
   },
   "file_extension": ".py",
   "mimetype": "text/x-python",
   "name": "python",
   "nbconvert_exporter": "python",
   "pygments_lexer": "ipython3",
   "version": "3.9.10"
  }
 },
 "nbformat": 4,
 "nbformat_minor": 1
}
