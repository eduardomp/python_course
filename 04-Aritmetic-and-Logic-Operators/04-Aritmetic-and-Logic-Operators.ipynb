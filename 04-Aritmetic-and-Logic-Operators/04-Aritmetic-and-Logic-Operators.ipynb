{
 "cells": [
  {
   "cell_type": "markdown",
   "metadata": {},
   "source": [
    "# 04-Aritmetic-and-Logic-Operators\n",
    "\n",
    "\n",
    "Like every programming language, python has the capacity to do aritmetic and logic operations. And that operators can be combined to create limitless expressions. Curious? So lets see that in action!\n",
    "\n",
    "\n",
    "## Booleans\n",
    "\n",
    "\n",
    "Python have a ***type*** called ***bool***, that is responsible to inform us if a variable or a result of a expressioon is ***True*** or ***False*** (yes, with T and F capitalized, remember that detail, because this is the way to declare a ***literal*** boolean value...)\n",
    "\n"
   ]
  },
  {
   "cell_type": "code",
   "execution_count": 1,
   "metadata": {},
   "outputs": [
    {
     "name": "stdout",
     "output_type": "stream",
     "text": [
      "<class 'bool'>\n"
     ]
    }
   ],
   "source": [
    "# literal True boolean value assigned to a variable\n",
    "isTrue = True\n",
    "\n",
    "# prints the bool type\n",
    "print(type(isTrue))"
   ]
  },
  {
   "cell_type": "code",
   "execution_count": null,
   "metadata": {},
   "outputs": [],
   "source": [
    "# simple comparison "
   ]
  }
 ],
 "metadata": {
  "kernelspec": {
   "display_name": "Python 3 (ipykernel)",
   "language": "python",
   "name": "python3"
  },
  "language_info": {
   "codemirror_mode": {
    "name": "ipython",
    "version": 3
   },
   "file_extension": ".py",
   "mimetype": "text/x-python",
   "name": "python",
   "nbconvert_exporter": "python",
   "pygments_lexer": "ipython3",
   "version": "3.9.10"
  }
 },
 "nbformat": 4,
 "nbformat_minor": 1
}
