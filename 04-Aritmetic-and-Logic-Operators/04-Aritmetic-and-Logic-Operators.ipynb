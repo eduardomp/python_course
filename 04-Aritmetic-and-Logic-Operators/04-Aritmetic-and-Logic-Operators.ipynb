{
 "cells": [
  {
   "cell_type": "markdown",
   "metadata": {},
   "source": [
    "# 04-Aritmetic-and-Logic-Operators\n",
    "\n",
    "\n",
    "Like every programming language, python has the capacity to do aritmetic and logic operations. And that operators can be combined to create limitless expressions. Curious? So lets see that in action!\n",
    "\n",
    "\n",
    "## Booleans\n",
    "\n",
    "\n",
    "Python have a ***type*** called ***bool***, that is responsible to inform us if a variable or a result of a expressioon is ***True*** or ***False*** (yes, with T and F capitalized, remember that detail, because this is the way to declare a ***literal*** boolean value...)\n",
    "\n"
   ]
  },
  {
   "cell_type": "code",
   "execution_count": 1,
   "metadata": {},
   "outputs": [
    {
     "name": "stdout",
     "output_type": "stream",
     "text": [
      "<class 'bool'>\n"
     ]
    }
   ],
   "source": [
    "# literal True boolean value assigned to a variable\n",
    "isTrue = True\n",
    "\n",
    "# prints the bool type\n",
    "print(type(isTrue))"
   ]
  },
  {
   "cell_type": "markdown",
   "metadata": {},
   "source": [
    "### Comparison operators\n",
    "\n",
    "|Operator| Description | Usage  |\n",
    "|--------|-------------|--------|  \n",
    "| ==     | Equals to   | a == b |\n",
    "| !=     | Not equals. | a != b |\n",
    "| <      | Less than   | a < b\t|\n",
    "| >      | Greater than| a > b\t|\n",
    "| <=     | Less than or equal to| a <= b|\n",
    "| >=     | Greater than or equal| a >= b|\n",
    "\n",
    "\n"
   ]
  },
  {
   "cell_type": "code",
   "execution_count": 15,
   "metadata": {},
   "outputs": [
    {
     "name": "stdout",
     "output_type": "stream",
     "text": [
      "a is 1 and b is \"2\"\n",
      "a is a <class 'int'> and b is <class 'str'>\n",
      "a is equals to b? False\n",
      "a is not equals to b? True\n",
      "a is less than b? True\n",
      "a is greater than b? False\n",
      "a is less than or equals to b? True\n",
      "a is greater than or equals to b? False\n"
     ]
    }
   ],
   "source": [
    "a = 1\n",
    "b = \"2\"\n",
    "\n",
    "print(f\"a is {a} and b is \\\"{b}\\\"\")\n",
    "print(f\"a is a {type(a)} and b is {type(b)}\")\n",
    "\n",
    "# equals to\n",
    "print(f\"a is equals to b? {a == b}\")\n",
    "\n",
    "# not equals to\n",
    "print(f\"a is not equals to b? {a != b}\")\n",
    "\n",
    "# less than\n",
    "print(f\"a is less than b? {a < int(b)}\") # pay attention, because of the type of variables, we need to convert \"b\" to int\n",
    "\n",
    "# greater than\n",
    "print(f\"a is greater than b? {a > int(b)}\")\n",
    "\n",
    "# Less than or equal to\n",
    "print(f\"a is less than or equals to b? {a <= int(b)}\")\n",
    "\n",
    "# Greater than or equal to\n",
    "print(f\"a is greater than or equals to b? {a >= int(b)}\")\n"
   ]
  }
 ],
 "metadata": {
  "kernelspec": {
   "display_name": "Python 3 (ipykernel)",
   "language": "python",
   "name": "python3"
  },
  "language_info": {
   "codemirror_mode": {
    "name": "ipython",
    "version": 3
   },
   "file_extension": ".py",
   "mimetype": "text/x-python",
   "name": "python",
   "nbconvert_exporter": "python",
   "pygments_lexer": "ipython3",
   "version": "3.9.10"
  }
 },
 "nbformat": 4,
 "nbformat_minor": 1
}
