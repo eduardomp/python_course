{
 "cells": [
  {
   "cell_type": "markdown",
   "id": "6fdb251c",
   "metadata": {},
   "source": [
    "# 05-Lists-and-Dictionaries\n",
    "\n",
    "\n",
    "Lists in Python are data structure that represents ordered sequences of values, and Dictionaries is a data structure that represents data indexed by a key.\n",
    "\n",
    "## Overview\n",
    "\n",
    "Let's look on how to declare a list of values:\n",
    "\n",
    "\n",
    "```python \n",
    "\n",
    "fruits = ['banana','apple','pineaple','lemon']\n",
    "names = ['John','Mario','Wario','Luigi']\n",
    "\n",
    "\n",
    "```\n",
    "\n",
    "Its possible to put any data inside of a list, like another list:\n",
    "\n",
    "```python\n",
    "\n",
    "matrix = [\n",
    "            [\"Name\",\"Age\",\"Sex\"],\n",
    "            [\"John\",36,\"Male\"],\n",
    "            [\"Mario\",31,\"Male\"]\n",
    "        ]\n",
    "\n",
    "```\n",
    "\n",
    "\n",
    "Now, how to declare a dictionary:\n",
    "\n",
    "```python\n",
    "\n",
    "person = {\n",
    "    \"name\":\"Bruce\",\n",
    "    \"age\":36,\n",
    "    \"sex\":\"Male\",\n",
    "    \"hobbies\": [\"ski\",\"gamming\",\"do nothing\"],\n",
    "    \"address\": {\n",
    "       \"code\":\"1234-123\"\n",
    "       \"street\":\"champs elysees\"\n",
    "       \"number\":\"333\"\n",
    "    }\n",
    "}\n",
    "\n",
    "dimensions = {\n",
    "    \"width\":\"800px\",\n",
    "    \"height\":\"600px\"\n",
    "}\n",
    "\n",
    "```\n",
    "\n",
    "After this overview, we can focus now on each data structure!\n",
    "\n",
    "## Lists\n",
    "\n",
    "\n",
    "\n",
    "### Indexing\n",
    "\n",
    "Lists is ordered, this means that you can expect always to get items from a list in a predictble order.\n",
    "\n",
    "In Python, lists are indexed by numbers, starting by 0. \n",
    "```python\n",
    "    fruits = ['banana','apple','pineaple','lemon']\n",
    "    # Index      0        1        2         3   \n",
    "```\n",
    "\n",
    "This means to access a item from a list, just do:\n"
   ]
  },
  {
   "cell_type": "code",
   "execution_count": 2,
   "id": "a234ed2c",
   "metadata": {},
   "outputs": [
    {
     "name": "stdout",
     "output_type": "stream",
     "text": [
      "first: banana, second: apple, third: pineaple and last: lemon\n"
     ]
    }
   ],
   "source": [
    "fruits = ['banana','apple','pineaple','lemon']\n",
    "\n",
    "first = fruits[0]\n",
    "second = fruits[1]\n",
    "third = fruits[-2]\n",
    "last = fruits[len(fruits)-1]\n",
    "\n",
    "\n",
    "print(f\"first: {first}, second: {second}, third: {third} and last: {last}\")\n"
   ]
  },
  {
   "cell_type": "markdown",
   "id": "bea02b33",
   "metadata": {},
   "source": [
    "### Slicing\n",
    "### List Functions\n",
    "### Iteration\n",
    "\n",
    "## Dictionaries\n",
    "### Indexing\n",
    "### Iteration\n",
    "\n",
    "## Challenges"
   ]
  }
 ],
 "metadata": {
  "kernelspec": {
   "display_name": "Python 3 (ipykernel)",
   "language": "python",
   "name": "python3"
  },
  "language_info": {
   "codemirror_mode": {
    "name": "ipython",
    "version": 3
   },
   "file_extension": ".py",
   "mimetype": "text/x-python",
   "name": "python",
   "nbconvert_exporter": "python",
   "pygments_lexer": "ipython3",
   "version": "3.9.10"
  }
 },
 "nbformat": 4,
 "nbformat_minor": 5
}
