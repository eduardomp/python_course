{
 "cells": [
  {
   "cell_type": "markdown",
   "id": "6fdb251c",
   "metadata": {},
   "source": [
    "# 05-Lists-and-Dictionaries\n",
    "\n",
    "\n",
    "Lists in Python are data structure that represents ordered sequences of values, and Dictionaries is a data structure that represents data indexed by a key.\n",
    "\n",
    "## Overview\n",
    "\n",
    "Let's look on how to declare a list of values:\n",
    "\n",
    "\n",
    "```python \n",
    "\n",
    "fruits = ['banana','apple','pineaple','lemon']\n",
    "names = ['John','Mario','Wario','Luigi']\n",
    "\n",
    "\n",
    "```\n",
    "\n",
    "Its possible to put any data inside of a list, like another list:\n",
    "\n",
    "```python\n",
    "\n",
    "matrix = [\n",
    "            [\"Name\",\"Age\",\"Sex\"],\n",
    "            [\"John\",36,\"Male\"],\n",
    "            [\"Mario\",31,\"Male\"]\n",
    "        ]\n",
    "\n",
    "```\n",
    "\n",
    "\n",
    "Now, how to declare a dictionary:\n",
    "\n",
    "```python\n",
    "\n",
    "person = {\n",
    "    \"name\":\"Bruce\",\n",
    "    \"age\":36,\n",
    "    \"sex\":\"Male\",\n",
    "    \"hobbies\": [\"ski\",\"gamming\",\"do nothing\"],\n",
    "    \"address\": {\n",
    "       \"code\":\"1234-123\"\n",
    "       \"street\":\"champs elysees\"\n",
    "       \"number\":\"333\"\n",
    "    }\n",
    "}\n",
    "\n",
    "dimensions = {\n",
    "    \"width\":\"800px\",\n",
    "    \"height\":\"600px\"\n",
    "}\n",
    "\n",
    "```\n",
    "\n",
    "After this overview, we can focus now on each data structure!\n",
    "\n",
    "## Lists\n",
    "\n",
    "\n",
    "\n",
    "### Indexing\n",
    "\n",
    "Lists is ordered, this means that you can expect always to get items from a list in a predictble order.\n",
    "\n",
    "In Python, lists are indexed by numbers, starting by 0. \n",
    "```python\n",
    "    fruits = ['banana','apple','pineaple','lemon']\n",
    "    # Index      0        1        2         3   \n",
    "```\n",
    "\n",
    "This means to access a item from a list, just do:\n"
   ]
  },
  {
   "cell_type": "code",
   "execution_count": null,
   "id": "a234ed2c",
   "metadata": {},
   "outputs": [],
   "source": [
    "fruits = ['banana','apple','pineaple','lemon']\n",
    "\n",
    "first = fruits[0]\n",
    "second = fruits[1]\n",
    "third = fruits[-2]\n",
    "last = fruits[len(fruits)-1]\n",
    "\n",
    "\n",
    "print(f\"first: {first}, second: {second}, third: {third} and last: {last}\")\n"
   ]
  },
  {
   "cell_type": "markdown",
   "id": "bea02b33",
   "metadata": {},
   "source": [
    "### Slicing\n",
    "\n",
    "Is possible to \"slice\" lists to get specific items between an interval. \n",
    "\n",
    "Lets try some ways to do it:"
   ]
  },
  {
   "cell_type": "code",
   "execution_count": null,
   "id": "4a01024a",
   "metadata": {},
   "outputs": [],
   "source": [
    "#index     0        1       2        3         4        5\n",
    "list = [\"item-1\",\"item-2\",\"item-3\",\"item-4\",\"item-5\",\"item-6\"]\n",
    "\n",
    "#[\"item-1\",\"item-2\",\"item-3\",\"item-4\",\"item-5\",\"item-6\"]\n",
    "#   0 <------> 1       2\n",
    "print(f\"\\n get the first two items list[0:2] = {list[0:2]}\")\n",
    "\n",
    "# get last two items, 6 is out of range but this kind of filtering is not inclusive... \n",
    "#[\"item-1\",\"item-2\",\"item-3\",\"item-4\",\"item-5\",\"item-6\"]\n",
    "#                                       4 <------> 5      6 \n",
    "print(f\"\\n getting last two items list[4:6] = {list[4:6]}\")\n",
    "\n",
    "#[\"item-1\",\"item-2\",\"item-3\",\"item-4\",\"item-5\",\"item-6\"]\n",
    "#            1 <------------------------> 4       5\n",
    "print(f\"\\n get four items after the first position list[1:5] = {list[1:5]}\")\n",
    "\n",
    "#[\"item-1\",\"item-2\",\"item-3\",\"item-4\",\"item-5\",\"item-6\"]\n",
    "#   0 <---------------> 2       3\n",
    "print(f\"\\n without first argument of the filter (assumes 0 in this case) list[:3] = {list[:3]}\")\n",
    "\n",
    "#[\"item-1\",\"item-2\",\"item-3\",\"item-4\",\"item-5\",\"item-6\"]\n",
    "#                      2 <-----------------------> 5      6\n",
    "print(f\"\\n without last argument of the filter (assumes 6 in this case) list[2:] = {list[2:]}\")\n",
    "\n",
    "#[\"item-1\",\"item-2\",\"item-3\",\"item-4\",\"item-5\",\"item-6\"]\n",
    "#                              -3        -2      -1\n",
    "print(f\"\\n using negative index filtering list[-3:] = {list[-3:]}\")\n"
   ]
  },
  {
   "cell_type": "markdown",
   "id": "301f935e",
   "metadata": {},
   "source": [
    "### List Functions\n",
    "\n",
    "Python have some useful functions to use with lists, lets check then:\n"
   ]
  },
  {
   "cell_type": "code",
   "execution_count": null,
   "id": "072a38a9",
   "metadata": {},
   "outputs": [],
   "source": [
    "# get the size of a list using the function len()\n",
    "animals = [\"Dog\",\"Cat\",\"Horse\",\"Cow\"]\n",
    "\n",
    "size = len(animals)\n",
    "\n",
    "print(size)"
   ]
  },
  {
   "cell_type": "code",
   "execution_count": null,
   "id": "ae8232d4",
   "metadata": {},
   "outputs": [],
   "source": [
    "# Sort in aphabetical order using the function sorted()\n",
    "sorted_animals = sorted(animals)\n",
    "\n",
    "print(sorted_animals)"
   ]
  },
  {
   "cell_type": "code",
   "execution_count": null,
   "id": "7765eee9",
   "metadata": {},
   "outputs": [],
   "source": [
    "# Sum all items in the list using the function sum()\n",
    "numbers = [3,5,6,7,10]\n",
    "\n",
    "total = sum(numbers)\n",
    "\n",
    "print(total)"
   ]
  },
  {
   "cell_type": "code",
   "execution_count": null,
   "id": "071b12e9",
   "metadata": {},
   "outputs": [],
   "source": [
    "# max and min of a numerical list\n",
    "print(max(numbers))\n",
    "print(min(numbers))"
   ]
  },
  {
   "cell_type": "markdown",
   "id": "b6c965e0",
   "metadata": {},
   "source": [
    "### Manipulation\n",
    "\n",
    "The List itself have some methods to handle their items, lets see some of then:"
   ]
  },
  {
   "cell_type": "code",
   "execution_count": null,
   "id": "983bec62",
   "metadata": {},
   "outputs": [],
   "source": [
    "cars = [\"Mustang\",\"Porsche\",\"Masserati\",\"Ferrari\",\"Dodge\"]\n",
    "print(f\"Cars {cars}\\n\")\n",
    "\n",
    "# Add an item to the end of the list\n",
    "cars.append(\"Tesla\")\n",
    "print(f\"cars.append(\\\"Tesla\\\"):\\n Adding 'Tesla' to the end of the list {cars}\\n\")\n",
    "\n",
    "#Insert an item at a given position\n",
    "cars.insert(2, \"Ford\")\n",
    "print(f\"cars.insert(2, \\\"Ford\\\"):\\n Insert Ford at index 2 {cars}\\n\")\n",
    "\n",
    "#Remove the first item from the list whose value is equal to the argument\n",
    "cars.remove(\"Dodge\")\n",
    "print(f\"cars.remove(\\\"Dodge\\\"):\\n Remove Dodge {cars}\\n\")\n",
    "\n",
    "#Remove the last item and return it.\n",
    "last_item = cars.pop()\n",
    "print(f\"cars.pop():\\n Remove last item {last_item} from {cars}\\n\")\n",
    "\n",
    "#Return zero-based index in the list of the first item whose value is equal to the argument\n",
    "index = cars.index(\"Porsche\")\n",
    "print(f\"cars.index(\\\"Porsche\\\"):\\n Porsche is at the index {index} of list {cars}\\n\")\n",
    "\n",
    "# Count given argument\n",
    "deloreans = cars.count(\"Delorean\")\n",
    "print(f\"cars.count(\\\"Delorean\\\"):\\n How many deloreans? {deloreans}\\n\")\n",
    "\n",
    "#Remove all items from the list\n",
    "cars.clear()\n",
    "print(f\"cars.clear():\\n Without Deloreans, without cars {cars}\\n\")\n"
   ]
  },
  {
   "cell_type": "markdown",
   "id": "4811ecee",
   "metadata": {},
   "source": [
    "## Dictionaries\n",
    "### Indexing\n",
    "\n",
    "\n",
    "## Challenges"
   ]
  }
 ],
 "metadata": {
  "kernelspec": {
   "display_name": "Python 3 (ipykernel)",
   "language": "python",
   "name": "python3"
  },
  "language_info": {
   "codemirror_mode": {
    "name": "ipython",
    "version": 3
   },
   "file_extension": ".py",
   "mimetype": "text/x-python",
   "name": "python",
   "nbconvert_exporter": "python",
   "pygments_lexer": "ipython3",
   "version": "3.9.10"
  }
 },
 "nbformat": 4,
 "nbformat_minor": 5
}
