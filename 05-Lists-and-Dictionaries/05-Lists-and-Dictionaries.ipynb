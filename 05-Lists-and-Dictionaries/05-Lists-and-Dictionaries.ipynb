{
 "cells": [
  {
   "cell_type": "markdown",
   "id": "6fdb251c",
   "metadata": {},
   "source": [
    "# 05-Lists-and-Dictionaries\n",
    "\n",
    "\n",
    "Lists in Python are data structure that represents ordered sequences of values, and Dictionaries is a data structure that represents data indexed by a key.\n",
    "\n",
    "## Overview\n",
    "\n",
    "Let's look on how to declare a list of values:\n",
    "\n",
    "\n",
    "```python \n",
    "\n",
    "fruits = ['banana','apple','pineaple','lemon']\n",
    "names = ['John','Mario','Wario','Luigi']\n",
    "\n",
    "\n",
    "```\n",
    "\n",
    "Its possible to put any data inside of a list, like another list:\n",
    "\n",
    "```python\n",
    "\n",
    "matrix = [\n",
    "            [\"Name\",\"Age\",\"Sex\"],\n",
    "            [\"John\",36,\"Male\"],\n",
    "            [\"Mario\",31,\"Male\"]\n",
    "        ]\n",
    "\n",
    "```\n",
    "\n",
    "\n",
    "Now, how to declare a dictionary:\n",
    "\n",
    "```python\n",
    "\n",
    "person = {\n",
    "    \"name\":\"Bruce\",\n",
    "    \"age\":36,\n",
    "    \"sex\":\"Male\",\n",
    "    \"hobbies\": [\"ski\",\"gamming\",\"do nothing\"],\n",
    "    \"address\": {\n",
    "       \"code\":\"1234-123\"\n",
    "       \"street\":\"champs elysees\"\n",
    "       \"number\":\"333\"\n",
    "    }\n",
    "}\n",
    "\n",
    "dimensions = {\n",
    "    \"width\":\"800px\",\n",
    "    \"height\":\"600px\"\n",
    "}\n",
    "\n",
    "```\n",
    "\n",
    "After this overview, we can focus now on each data structure!\n",
    "\n",
    "## Lists\n",
    "\n",
    "\n",
    "\n",
    "### Indexing\n",
    "\n",
    "Lists is ordered, this means that you can expect always to get items from a list in a predictble order.\n",
    "\n",
    "In Python, lists are indexed by numbers, starting by 0. \n",
    "```python\n",
    "    fruits = ['banana','apple','pineaple','lemon']\n",
    "    # Index      0        1        2         3   \n",
    "```\n",
    "\n",
    "This means to access a item from a list, just do:\n"
   ]
  },
  {
   "cell_type": "code",
   "execution_count": 1,
   "id": "a234ed2c",
   "metadata": {},
   "outputs": [
    {
     "name": "stdout",
     "output_type": "stream",
     "text": [
      "first: banana, second: apple, third: pineaple and last: lemon\n"
     ]
    }
   ],
   "source": [
    "fruits = ['banana','apple','pineaple','lemon']\n",
    "\n",
    "first = fruits[0]\n",
    "second = fruits[1]\n",
    "third = fruits[-2]\n",
    "last = fruits[len(fruits)-1]\n",
    "\n",
    "\n",
    "print(f\"first: {first}, second: {second}, third: {third} and last: {last}\")\n"
   ]
  },
  {
   "cell_type": "markdown",
   "id": "bea02b33",
   "metadata": {},
   "source": [
    "### Slicing\n",
    "\n",
    "Is possible to \"slice\" lists to get specific items between an interval. \n",
    "\n",
    "Lets try some ways to do it:"
   ]
  },
  {
   "cell_type": "code",
   "execution_count": 2,
   "id": "9af21dc5",
   "metadata": {},
   "outputs": [
    {
     "name": "stdout",
     "output_type": "stream",
     "text": [
      "\n",
      " get the first two items items[0:2] = ['item-1', 'item-2']\n",
      "\n",
      " getting last two items items[4:6] = ['item-5', 'item-6']\n",
      "\n",
      " get four items after the first position items[1:5] = ['item-2', 'item-3', 'item-4', 'item-5']\n",
      "\n",
      " without first argument of the filter (assumes 0 in this case) items[:3] = ['item-1', 'item-2', 'item-3']\n",
      "\n",
      " without last argument of the filter (assumes 6 in this case) items[2:] = ['item-3', 'item-4', 'item-5', 'item-6']\n",
      "\n",
      " using negative index filtering items[-3:] = ['item-4', 'item-5', 'item-6']\n"
     ]
    }
   ],
   "source": [
    "#index     0        1       2        3         4        5\n",
    "items = [\"item-1\",\"item-2\",\"item-3\",\"item-4\",\"item-5\",\"item-6\"]\n",
    "\n",
    "#[\"item-1\",\"item-2\",\"item-3\",\"item-4\",\"item-5\",\"item-6\"]\n",
    "#   0 <------> 1       2\n",
    "print(f\"\\n get the first two items items[0:2] = {items[0:2]}\")\n",
    "\n",
    "# get last two items, 6 is out of range but this kind of filtering is not inclusive... \n",
    "#[\"item-1\",\"item-2\",\"item-3\",\"item-4\",\"item-5\",\"item-6\"]\n",
    "#                                       4 <------> 5      6 \n",
    "print(f\"\\n getting last two items items[4:6] = {items[4:6]}\")\n",
    "\n",
    "#[\"item-1\",\"item-2\",\"item-3\",\"item-4\",\"item-5\",\"item-6\"]\n",
    "#            1 <------------------------> 4       5\n",
    "print(f\"\\n get four items after the first position items[1:5] = {items[1:5]}\")\n",
    "\n",
    "#[\"item-1\",\"item-2\",\"item-3\",\"item-4\",\"item-5\",\"item-6\"]\n",
    "#   0 <---------------> 2       3\n",
    "print(f\"\\n without first argument of the filter (assumes 0 in this case) items[:3] = {items[:3]}\")\n",
    "\n",
    "#[\"item-1\",\"item-2\",\"item-3\",\"item-4\",\"item-5\",\"item-6\"]\n",
    "#                      2 <-----------------------> 5      6\n",
    "print(f\"\\n without last argument of the filter (assumes 6 in this case) items[2:] = {items[2:]}\")\n",
    "\n",
    "#[\"item-1\",\"item-2\",\"item-3\",\"item-4\",\"item-5\",\"item-6\"]\n",
    "#                              -3        -2      -1\n",
    "print(f\"\\n using negative index filtering items[-3:] = {items[-3:]}\")\n"
   ]
  },
  {
   "cell_type": "markdown",
   "id": "ae7fad8d",
   "metadata": {},
   "source": [
    "### List Functions\n",
    "\n",
    "Python have some useful functions to use with lists, lets check then:\n"
   ]
  },
  {
   "cell_type": "code",
   "execution_count": 3,
   "id": "72be52e5",
   "metadata": {},
   "outputs": [
    {
     "name": "stdout",
     "output_type": "stream",
     "text": [
      "4\n"
     ]
    }
   ],
   "source": [
    "# get the size of a list using the function len()\n",
    "animals = [\"Dog\",\"Cat\",\"Horse\",\"Cow\"]\n",
    "\n",
    "size = len(animals)\n",
    "\n",
    "print(size)"
   ]
  },
  {
   "cell_type": "code",
   "execution_count": 4,
   "id": "060d5007",
   "metadata": {},
   "outputs": [
    {
     "name": "stdout",
     "output_type": "stream",
     "text": [
      "['Cat', 'Cow', 'Dog', 'Horse']\n"
     ]
    }
   ],
   "source": [
    "# Sort in aphabetical order using the function sorted()\n",
    "sorted_animals = sorted(animals)\n",
    "\n",
    "print(sorted_animals)"
   ]
  },
  {
   "cell_type": "code",
   "execution_count": 5,
   "id": "d581e630",
   "metadata": {},
   "outputs": [
    {
     "name": "stdout",
     "output_type": "stream",
     "text": [
      "31\n"
     ]
    }
   ],
   "source": [
    "# Sum all items in the list using the function sum()\n",
    "numbers = [3,5,6,7,10]\n",
    "\n",
    "total = sum(numbers)\n",
    "\n",
    "print(total)"
   ]
  },
  {
   "cell_type": "code",
   "execution_count": 6,
   "id": "cde4c985",
   "metadata": {},
   "outputs": [
    {
     "name": "stdout",
     "output_type": "stream",
     "text": [
      "10\n",
      "3\n"
     ]
    }
   ],
   "source": [
    "# max and min of a numerical list\n",
    "print(max(numbers))\n",
    "print(min(numbers))"
   ]
  },
  {
   "cell_type": "markdown",
   "id": "c3bb6490",
   "metadata": {},
   "source": [
    "### Manipulation\n",
    "\n",
    "The List itself have some methods to handle their items, lets see some of then:"
   ]
  },
  {
   "cell_type": "code",
   "execution_count": 13,
   "id": "13603c10",
   "metadata": {},
   "outputs": [
    {
     "name": "stdout",
     "output_type": "stream",
     "text": [
      "Cars ['Mustang', 'Porsche', 'Masserati', 'Ferrari', 'Dodge']\n",
      "\n",
      "cars.append(\"Tesla\"):\n",
      " Adding 'Tesla' to the end of the list ['Mustang', 'Porsche', 'Masserati', 'Ferrari', 'Dodge', 'Tesla']\n",
      "\n",
      "cars.insert(2, \"Ford\"):\n",
      " Insert Ford at index 2 ['Mustang', 'Porsche', 'Ford', 'Masserati', 'Ferrari', 'Dodge', 'Tesla']\n",
      "\n",
      "cars.remove(\"Dodge\"):\n",
      " Remove Dodge ['Mustang', 'Porsche', 'Ford', 'Masserati', 'Ferrari', 'Tesla']\n",
      "\n",
      "cars.pop():\n",
      " Remove last item Tesla from ['Mustang', 'Porsche', 'Ford', 'Masserati', 'Ferrari']\n",
      "\n",
      "cars.pop(2):\n",
      " Remove item from index 2 and return it: Ford\n",
      "\n",
      "cars.index(\"Porsche\"):\n",
      " Porsche is at the index 1 of list ['Mustang', 'Porsche', 'Masserati', 'Ferrari']\n",
      "\n",
      "cars.count(\"Delorean\"):\n",
      " How many deloreans? 0\n",
      "\n",
      "cars.clear():\n",
      " Without Deloreans, without cars []\n",
      "\n"
     ]
    }
   ],
   "source": [
    "cars = [\"Mustang\",\"Porsche\",\"Masserati\",\"Ferrari\",\"Dodge\"]\n",
    "print(f\"Cars {cars}\\n\")\n",
    "\n",
    "# Add an item to the end of the list\n",
    "cars.append(\"Tesla\")\n",
    "print(f\"cars.append(\\\"Tesla\\\"):\\n Adding 'Tesla' to the end of the list {cars}\\n\")\n",
    "\n",
    "#Insert an item at a given position\n",
    "cars.insert(2, \"Ford\")\n",
    "print(f\"cars.insert(2, \\\"Ford\\\"):\\n Insert Ford at index 2 {cars}\\n\")\n",
    "\n",
    "#Remove the first item from the list whose value is equal to the argument\n",
    "cars.remove(\"Dodge\")\n",
    "print(f\"cars.remove(\\\"Dodge\\\"):\\n Remove Dodge {cars}\\n\")\n",
    "\n",
    "#Remove the last item and return it.\n",
    "last_item = cars.pop()\n",
    "print(f\"cars.pop():\\n Remove last item {last_item} from {cars}\\n\")\n",
    "\n",
    "#NOTE: \"pop\" can receive the position of the element too\n",
    "print(f\"cars.pop(2):\\n Remove item from index 2 and return it: {cars.pop(2)}\\n\")\n",
    "\n",
    "#Return zero-based index in the list of the first item whose value is equal to the argument\n",
    "index = cars.index(\"Porsche\")\n",
    "print(f\"cars.index(\\\"Porsche\\\"):\\n Porsche is at the index {index} of list {cars}\\n\")\n",
    "\n",
    "# Count given argument\n",
    "deloreans = cars.count(\"Delorean\")\n",
    "print(f\"cars.count(\\\"Delorean\\\"):\\n How many deloreans? {deloreans}\\n\")\n",
    "\n",
    "#Remove all items from the list\n",
    "cars.clear()\n",
    "print(f\"cars.clear():\\n Without Deloreans, without cars {cars}\\n\")\n"
   ]
  },
  {
   "cell_type": "markdown",
   "id": "1d72f879",
   "metadata": {},
   "source": [
    "## Dictionaries\n",
    "\n",
    "### Indexing\n",
    "\n",
    "Different from Lists, Dictionaries is indexed by \"keys\". A key can be an immutable value like a str or int.\n",
    "\n",
    "Lets see this:"
   ]
  },
  {
   "cell_type": "code",
   "execution_count": 8,
   "id": "5778f2f9",
   "metadata": {
    "scrolled": true
   },
   "outputs": [
    {
     "name": "stdout",
     "output_type": "stream",
     "text": [
      "{'model': 'Delorean', 'purpose': 'Go back to the future', 2022: '2022'}\n",
      "\n",
      " What is the purpose of the Delorean? \n",
      " R: Go back to the future\n"
     ]
    }
   ],
   "source": [
    "car = {\n",
    "        \"model\": \"Delorean\",\n",
    "        \"purpose\": \"Go back to the future\",\n",
    "        2022: \"2022\"\n",
    "    }\n",
    "\n",
    "print(car)\n",
    "\n",
    "#To access an item from a Dictionarie, just use the key:\n",
    "purpose = car[\"purpose\"]\n",
    "print(f\"\\n What is the purpose of the Delorean? \\n R: {purpose}\")\n"
   ]
  },
  {
   "cell_type": "markdown",
   "id": "408cfd48",
   "metadata": {},
   "source": [
    "### Functions\n",
    "\n",
    "Python have some useful functions to use with Dictionaries, lets check then:"
   ]
  },
  {
   "cell_type": "code",
   "execution_count": 11,
   "id": "7c5ad6c3",
   "metadata": {},
   "outputs": [
    {
     "name": "stdout",
     "output_type": "stream",
     "text": [
      "tel = {'jack': 4098, 'sape': 4139, 'guido': 4127}\n",
      "\n",
      "keys of tel dict: ['guido', 'jack', 'sape']\n",
      "\n",
      "sorted keys of tel dict: ['guido', 'jack', 'sape']\n",
      "\n",
      "tel dict without sape: {'jack': 4098, 'guido': 4127}\n",
      "\n",
      "Its me Mario: {'jack': 4098, 'guido': 4127, 'Mario': 2929}\n",
      "\n"
     ]
    }
   ],
   "source": [
    "tel = {'jack': 4098, 'sape': 4139, 'guido' : 4127}\n",
    "print(f\"tel = {tel}\\n\")\n",
    "\n",
    "\n",
    "# return a list with the keys\n",
    "keys = list(tel)\n",
    "print(f\"keys of tel dict: {sorted_keys}\\n\")\n",
    "\n",
    "# return a list with the keys sorted\n",
    "sorted_keys = sorted(tel)\n",
    "print(f\"sorted keys of tel dict: {sorted_keys}\\n\")\n",
    "\n",
    "# remove\n",
    "del tel['sape']\n",
    "print(f\"tel dict without sape: {tel}\\n\")\n",
    "\n",
    "# you can add new values to the dict\n",
    "\n",
    "tel[\"Mario\"] = 2929\n",
    "print(f\"Its me Mario: {tel}\\n\")\n",
    "\n"
   ]
  },
  {
   "cell_type": "markdown",
   "id": "bceb9ef3",
   "metadata": {},
   "source": [
    "## Challenges\n",
    "\n",
    "Please, COMPLETE or FIX the code below.\n",
    "\n",
    "Good lucky!"
   ]
  },
  {
   "cell_type": "code",
   "execution_count": 15,
   "id": "6f96594d",
   "metadata": {},
   "outputs": [
    {
     "ename": "SyntaxError",
     "evalue": "invalid syntax (2963964983.py, line 5)",
     "output_type": "error",
     "traceback": [
      "\u001b[0;36m  Input \u001b[0;32mIn [15]\u001b[0;36m\u001b[0m\n\u001b[0;31m    banana = ***\u001b[0m\n\u001b[0m             ^\u001b[0m\n\u001b[0;31mSyntaxError\u001b[0m\u001b[0;31m:\u001b[0m invalid syntax\n"
     ]
    }
   ],
   "source": [
    "# Given the list\n",
    "fruits = [\"Banana\",\"Apple\",\"Samsung\",\"Pineapple\"]\n",
    "\n",
    "#Get the banana\n",
    "banana = ***\n",
    "\n",
    "#Get the Pineapple\n",
    "pineapple_negative_index = -2\n",
    "pineapple = fruits[pineapple_negative_index]\n",
    "\n",
    "\n"
   ]
  }
 ],
 "metadata": {
  "kernelspec": {
   "display_name": "Python 3 (ipykernel)",
   "language": "python",
   "name": "python3"
  },
  "language_info": {
   "codemirror_mode": {
    "name": "ipython",
    "version": 3
   },
   "file_extension": ".py",
   "mimetype": "text/x-python",
   "name": "python",
   "nbconvert_exporter": "python",
   "pygments_lexer": "ipython3",
   "version": "3.9.10"
  }
 },
 "nbformat": 4,
 "nbformat_minor": 5
}
