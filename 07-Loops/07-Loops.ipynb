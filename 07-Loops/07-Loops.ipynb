{
 "cells": [
  {
   "cell_type": "markdown",
   "id": "d426fd81",
   "metadata": {},
   "source": [
    "# 07-Loops\n",
    "\n",
    "Loops is a way to repeatedly execute some code. This is very useful to interact with items of a list or with chars from a string.\n",
    "\n",
    "### for loops\n",
    "\n",
    "A ***for*** loop is used for iterating over a sequence (that is either a [list](https://docs.python.org/3/tutorial/datastructures.html#more-on-lists), a [tuple](https://docs.python.org/3/tutorial/datastructures.html#tuples-and-sequences), a [dictionary](https://docs.python.org/3/tutorial/datastructures.html#dictionaries), a [set](https://docs.python.org/3/tutorial/datastructures.html#sets), or a string).\n"
   ]
  },
  {
   "cell_type": "code",
   "execution_count": null,
   "id": "2d5895cb",
   "metadata": {},
   "outputs": [],
   "source": [
    "# prints every fruit in the list\n",
    "fruits = [\"apple\", \"banana\", \"cherry\"]\n",
    "for fruit in fruits:\n",
    "  print(fruit)"
   ]
  },
  {
   "cell_type": "markdown",
   "id": "940b43d7",
   "metadata": {},
   "source": [
    "The for loop specifies\n",
    "\n",
    "the variable name to use (in this case, fruit)\n",
    "the set of values to loop over (in this case, fruits)\n",
    "You use the word \"in\" to link them together.\n",
    "\n",
    "The object to the right of the \"in\" can be any sequence.\n",
    "\n",
    "### The range() Function\n",
    "\n",
    "The range() function returns a sequence of numbers, starting from 0 by default, and increments by 1 (by default), and ends at a specified number. This can be used to create a sequence iterable by the for loop."
   ]
  },
  {
   "cell_type": "code",
   "execution_count": null,
   "id": "24d21c57",
   "metadata": {},
   "outputs": [],
   "source": [
    "# Say hello 10 times\n",
    "for i in range(10):\n",
    "    print(f\"HELLO {i}\")"
   ]
  },
  {
   "cell_type": "markdown",
   "id": "c5037622",
   "metadata": {},
   "source": [
    "### Else in For Loop\n",
    "\n",
    "The else keyword in a for loop specifies a block of code to be executed when the loop is finished:"
   ]
  },
  {
   "cell_type": "code",
   "execution_count": null,
   "id": "f0f3475e",
   "metadata": {},
   "outputs": [],
   "source": [
    "ingredients = [\"Water\", \"Malts\", \"Hops\" , \"Yeast\"]\n",
    "\n",
    "for ingredient in ingredients:\n",
    "    print(f\"{ingredient} +\")\n",
    "else:\n",
    "    print(\"= beer\")"
   ]
  },
  {
   "cell_type": "markdown",
   "id": "d4f8dedc",
   "metadata": {},
   "source": [
    "The else block will NOT be executed if the loop is stopped by a break statement."
   ]
  },
  {
   "cell_type": "code",
   "execution_count": null,
   "id": "5beeceb5",
   "metadata": {},
   "outputs": [],
   "source": [
    "ingredients = [\"Water\", \"Corn\", \"sugar\", \"Hops\" , \"Yeast\"]\n",
    "\n",
    "for ingredient in ingredients:\n",
    "    if ingredient == \"Corn\": break\n",
    "    print(ingredient)\n",
    "else:\n",
    "    print(\"beer?\")"
   ]
  },
  {
   "cell_type": "markdown",
   "id": "63742a7f",
   "metadata": {},
   "source": [
    "### Nested Loops\n",
    "\n",
    "You can use nested loop to iterate sequences inside sequences (multidimensional arrays or matrices)."
   ]
  },
  {
   "cell_type": "code",
   "execution_count": null,
   "id": "f7833ca7",
   "metadata": {},
   "outputs": [],
   "source": [
    "matrix = [[\"ID\",\"NAME\",\"AGE\",\"SEX\"],[\"00001\",\"Mary\",\"56\",\"F\"],[\"00002\",\"Peter\",\"42\",\"M\"],[\"00003\",\"Jane\",\"24\",\"F\"],[\"00004\",\"John\",\"30\",\"M\"]]\n",
    "\n",
    "for line in matrix: # iterate first level (lines)\n",
    "    print(\"\\n================================================\")\n",
    "    \n",
    "    for column in line:# iterate second level (columns)\n",
    "        print(f\"|{column.center(10,' ')}\",end=\"|\") \n",
    "else:\n",
    "    print(\"\\n================================================\")"
   ]
  },
  {
   "cell_type": "markdown",
   "id": "ddc22218",
   "metadata": {},
   "source": [
    "### while loops\n",
    "\n",
    "Its possible to repeat a block of code until a boolean condition is reached. This is what ***while*** loop do. Lets see some examples:\n"
   ]
  },
  {
   "cell_type": "code",
   "execution_count": null,
   "id": "c044af14",
   "metadata": {},
   "outputs": [],
   "source": [
    "count = 0\n",
    "#repeat until variable count reach value 99\n",
    "while count < 100:\n",
    "    count = count + 1\n",
    "\n",
    "print(count)\n",
    "\n",
    "# like for, you can use \"else\" to create a block of execution when the loop finish\n",
    "progress = 0\n",
    "#repeat until variable count reach value 99\n",
    "while progress < 100:\n",
    "    progress = progress + 1\n",
    "else:\n",
    "    print(f\"Progress {progress} %\")\n",
    "\n"
   ]
  },
  {
   "cell_type": "markdown",
   "id": "25ddfbc8",
   "metadata": {},
   "source": [
    "### Break and Continue\n",
    "\n",
    "You can use ***break*** and ***continue*** to control the execution:"
   ]
  },
  {
   "cell_type": "code",
   "execution_count": null,
   "id": "f20000dd",
   "metadata": {},
   "outputs": [],
   "source": [
    "numbers = [0,1,2,3,4,5,7,8,9,6,9,4,3,2,5,7,3,3]\n",
    "number_six_not_find = True\n",
    "count = 0\n",
    "while number_six_not_find:\n",
    "    if numbers[count] == 6:\n",
    "        print(f\"find 6 in the {count} position\")\n",
    "        number_six_not_find = False\n",
    "        break\n",
    "    count = count + 1\n",
    "\n",
    "# skip number 3 using continue word    \n",
    "i = 0\n",
    "while i <= 10:\n",
    "    i += 1\n",
    "    if i == 3:\n",
    "        continue\n",
    "    print(i)\n",
    "    \n",
    "    "
   ]
  },
  {
   "cell_type": "markdown",
   "id": "67414554",
   "metadata": {},
   "source": [
    "### Loops and List Comprehensions\n",
    "\n",
    "One of the most loved feature in Python is called ***List Comprehensions***.\n",
    "\n",
    "This is a way to handle and iterate items in a list (creating a new list, using for loop) in a very short way.\n"
   ]
  },
  {
   "cell_type": "code",
   "execution_count": null,
   "id": "915dac4d",
   "metadata": {},
   "outputs": [],
   "source": [
    "# create a list with squares of the numbers between 0 and 10\n",
    "squares = [n**2 for n in range(10)]\n",
    "print(squares)\n",
    "\n",
    "# the same thing without list comprehensions\n",
    "squares = []\n",
    "for n in range(10):\n",
    "    squares.append(n**2)\n",
    "print(squares)"
   ]
  },
  {
   "cell_type": "markdown",
   "id": "c9f7d040",
   "metadata": {},
   "source": [
    "### Challenges\n",
    "\n",
    "Please fix and complete the code bellow:"
   ]
  },
  {
   "cell_type": "code",
   "execution_count": null,
   "id": "9bb9f563",
   "metadata": {},
   "outputs": [],
   "source": [
    "# CHALLENGE - 1 Iterate fruits list and change every fruit to UPPERCASE, storing in the uppercased_list variable\n",
    "\n",
    "fruits = [\"Banana\",\"Apple\",\"Pineapple\",\"Kiwi\",\"Açaí\"]\n",
    "uppercased_list = []\n",
    "\n",
    "*** fruit *** fruits:\n",
    "    uppercased_list.append(fruit.upper())\n",
    "\n",
    "print(f\"uppercased_list: {uppercased_list}\")\n",
    "\n",
    "# CHALLENGE - 2 Create a list with numbers beetween 0 and 6\n",
    "\n",
    "zero_to_six = []\n",
    "for i in ***(***):\n",
    "    zero_to_six.append(i)\n",
    "    \n",
    "print(f\"zero_to_six: {zero_to_six}\")\n",
    "    \n",
    "# CHALLENGE - 3 Iterate the list skipping all non int elements\n",
    "elements = [\"Mario\", 1, ['hi'] , \"banana\", {\"progress\":0.99}, 42, 100, 0.3, True]\n",
    "integers = []\n",
    "for element in elements:\n",
    "    if type(element) != int:\n",
    "        ***\n",
    "    integers.append(element)\n",
    "    \n",
    "print(f\"integers: {integers}\")\n",
    "\n",
    "# CHALLENGE - 4 Use list comprehensions to lowercase all elements of the list uppercased_list\n",
    "lowercased = [fruit.lower() *** fruit *** uppercased_list]\n",
    "print(f\"lowercased: {lowercased}\")\n",
    "\n",
    "# CHALLENGE - 5 append i as long i is less than 6\n",
    "i = 1\n",
    "i_list = []\n",
    "*** i < 6:\n",
    "    i_list.append(i)\n",
    "    i += 1\n",
    "\n",
    "print(f\"i_list: {i_list}\")    \n"
   ]
  },
  {
   "cell_type": "code",
   "execution_count": null,
   "id": "7e734419",
   "metadata": {},
   "outputs": [],
   "source": [
    "# Execute this tests when you finish all the challenges\n",
    "import test_script\n",
    "\n",
    "test_script.check_uppercased_list(uppercased_list)\n",
    "test_script.check_zero_to_six(zero_to_six)\n",
    "test_script.check_integers(integers)\n",
    "test_script.check_lowercased(lowercased)\n",
    "test_script.check_i_list(i_list)"
   ]
  }
 ],
 "metadata": {
  "kernelspec": {
   "display_name": "Python 3 (ipykernel)",
   "language": "python",
   "name": "python3"
  },
  "language_info": {
   "codemirror_mode": {
    "name": "ipython",
    "version": 3
   },
   "file_extension": ".py",
   "mimetype": "text/x-python",
   "name": "python",
   "nbconvert_exporter": "python",
   "pygments_lexer": "ipython3",
   "version": "3.9.10"
  }
 },
 "nbformat": 4,
 "nbformat_minor": 5
}
